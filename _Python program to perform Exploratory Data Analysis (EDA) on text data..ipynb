{
 "cells": [
  {
   "cell_type": "code",
   "execution_count": 3,
   "id": "8b8f5c9f-987e-4e8b-a4c8-952ce599613c",
   "metadata": {},
   "outputs": [],
   "source": [
    "file_path = 'sample.txt'\n"
   ]
  },
  {
   "cell_type": "code",
   "execution_count": null,
   "id": "c4d5dfc1-0ffc-4bee-b099-68f92c9ce878",
   "metadata": {},
   "outputs": [],
   "source": [
    "file_path = r\"C:\\path\\to\\your\\sample.txt\"\n"
   ]
  }
 ],
 "metadata": {
  "kernelspec": {
   "display_name": "Python 3 (ipykernel)",
   "language": "python",
   "name": "python3"
  },
  "language_info": {
   "codemirror_mode": {
    "name": "ipython",
    "version": 3
   },
   "file_extension": ".py",
   "mimetype": "text/x-python",
   "name": "python",
   "nbconvert_exporter": "python",
   "pygments_lexer": "ipython3",
   "version": "3.12.7"
  }
 },
 "nbformat": 4,
 "nbformat_minor": 5
}
